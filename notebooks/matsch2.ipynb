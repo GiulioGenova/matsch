{
 "metadata": {
  "language_info": {
   "codemirror_mode": {
    "name": "ipython",
    "version": 3
   },
   "file_extension": ".py",
   "mimetype": "text/x-python",
   "name": "python",
   "nbconvert_exporter": "python",
   "pygments_lexer": "ipython3",
   "version": "3.8.5-final"
  },
  "orig_nbformat": 2,
  "kernelspec": {
   "name": "python3",
   "display_name": "Python 3"
  }
 },
 "nbformat": 4,
 "nbformat_minor": 2,
 "cells": [
  {
   "cell_type": "code",
   "execution_count": 2,
   "metadata": {},
   "outputs": [],
   "source": [
    "import os\n",
    "import ee\n",
    "import geemap"
   ]
  },
  {
   "cell_type": "code",
   "execution_count": 7,
   "metadata": {},
   "outputs": [],
   "source": [
    "m = geemap.Map()"
   ]
  },
  {
   "cell_type": "code",
   "execution_count": 4,
   "metadata": {},
   "outputs": [],
   "source": [
    "collection = ee.ImageCollection('MODIS/006/MOD13A2') \\\n",
    "    .filterDate('2015-01-01', '2019-12-31') \\\n",
    "    .select('NDVI')\n",
    "#stations = [\n",
    "#  ee.Feature(\n",
    "#      ee.Geometry.Point(10.5798451965, 46.6862577024), {'name': 'B2 1490m'}),\n",
    "#  ee.Feature(\n",
    "#      ee.Geometry.Point(10.5918853513, 46.6917328627), {'name': 'B3(1930m)'}),\n",
    "#  ee.Feature(\n",
    "#      ee.Geometry.Point(10.5850561988, 46.684249288), {'name': 'P2 (1549m)'})\n",
    "#]\n",
    "#allStations = ee.FeatureCollection(stations)\n",
    "\n",
    "#def do_buffer(t):\n",
    "#    return(t.buffer(25).bounds())\n",
    "#buffer = allStations.map(do_buffer)\n",
    "\n",
    "#collection = ee.ImageCollection('COPERNICUS/S2') \\\n",
    "#    .filterDate('2017-01-01', '2017-03-31') \\\n",
    "#    .filter(ee.Filter.lt('CLOUDY_PIXEL_PERCENTAGE', 20))\n",
    "\n",
    "#def addNDVI(image):\n",
    "#    ndvi = image.normalizedDifference(['B5', 'B4']).rename('NDVI')\n",
    "#    return image.addBands(ndvi).clip(buffer)\n",
    "#collection = collection.map(addNDVI).select('NDVI')\n",
    "\n",
    "# Convert the image collection to an image.\n",
    "image = collection.toBands()\n",
    "\n"
   ]
  },
  {
   "cell_type": "code",
   "execution_count": 6,
   "metadata": {},
   "outputs": [
    {
     "output_type": "display_data",
     "data": {
      "text/plain": "Map(center=[40, -100], controls=(WidgetControl(options=['position'], widget=HBox(children=(ToggleButton(value=…",
      "application/vnd.jupyter.widget-view+json": {
       "version_major": 2,
       "version_minor": 0,
       "model_id": "341f115c4bfb4d7e93861b8ad5783e26"
      }
     },
     "metadata": {}
    }
   ],
   "source": [
    "m.addLayer(image)\n",
    "m"
   ]
  },
  {
   "cell_type": "code",
   "execution_count": 8,
   "metadata": {},
   "outputs": [
    {
     "output_type": "display_data",
     "data": {
      "text/plain": "Map(center=[40, -100], controls=(WidgetControl(options=['position'], widget=HBox(children=(ToggleButton(value=…",
      "application/vnd.jupyter.widget-view+json": {
       "version_major": 2,
       "version_minor": 0,
       "model_id": "3896e4d3ef8945a1aa3b25942f4460f0"
      }
     },
     "metadata": {}
    }
   ],
   "source": [
    "ndvi_vis = {\n",
    "  'min': 0.0,\n",
    "  'max': 9000.0,\n",
    "  'palette': [\n",
    "    'FFFFFF', 'CE7E45', 'DF923D', 'F1B555', 'FCD163', '99B718', '74A901',\n",
    "    '66A000', '529400', '3E8601', '207401', '056201', '004C00', '023B01',\n",
    "    '012E01', '011D01', '011301'\n",
    "  ]\n",
    "}\n",
    "\n",
    "m.addLayer(image, {}, 'MODIS NDVI Time-series')\n",
    "m.addLayer(image.select(0), ndvi_vis, 'MODIS NDVI VIS')\n",
    "\n",
    "m"
   ]
  },
  {
   "cell_type": "code",
   "execution_count": 9,
   "metadata": {},
   "outputs": [],
   "source": [
    "m.set_plot_options(add_marker_cluster=True, marker=None)\n",
    "m.roi_reducer = ee.Reducer.mean()"
   ]
  },
  {
   "cell_type": "code",
   "execution_count": 10,
   "metadata": {},
   "outputs": [
    {
     "output_type": "stream",
     "name": "stdout",
     "text": [
      "The shapefile has been saved to: /home/ggenova/Downloads/ndvi.shp\n"
     ]
    }
   ],
   "source": [
    "out_dir = os.path.join(os.path.expanduser('~'), 'Downloads')\n",
    "# out_csv = os.path.join(out_dir, 'points.csv')\n",
    "out_shp = os.path.join(out_dir, 'ndvi.shp')\n",
    "m.extract_values_to_points(out_shp)"
   ]
  },
  {
   "cell_type": "code",
   "execution_count": null,
   "metadata": {},
   "outputs": [],
   "source": []
  }
 ]
}