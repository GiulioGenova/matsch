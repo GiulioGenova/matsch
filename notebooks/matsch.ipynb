{
 "metadata": {
  "language_info": {
   "codemirror_mode": {
    "name": "ipython",
    "version": 3
   },
   "file_extension": ".py",
   "mimetype": "text/x-python",
   "name": "python",
   "nbconvert_exporter": "python",
   "pygments_lexer": "ipython3",
   "version": "3.8.5-final"
  },
  "orig_nbformat": 2,
  "kernelspec": {
   "name": "python3",
   "display_name": "Python 3.8.5 64-bit ('deepgrids-env': conda)",
   "metadata": {
    "interpreter": {
     "hash": "2800adbcc015a26669636914ab08461ab6a00fd7d4babb9145b4932d63e56c5c"
    }
   }
  }
 },
 "nbformat": 4,
 "nbformat_minor": 2,
 "cells": [
  {
   "cell_type": "code",
   "execution_count": null,
   "metadata": {},
   "outputs": [],
   "source": [
    "import ee\n",
    "import geemap\n",
    "from geemap import ee_initialize\n",
    "import os\n",
    "import pandas as pd\n",
    "ee_initialize()\n",
    "#\n",
    "#https://developers.google.com/earth-engine/tutorials/tutorial_api_07"
   ]
  },
  {
   "cell_type": "code",
   "execution_count": null,
   "metadata": {},
   "outputs": [],
   "source": [
    "stations = [\n",
    "  ee.Feature(\n",
    "      ee.Geometry.Point(10.5798451965, 46.6862577024), {'name': 'B2 (1490m)'}),\n",
    "  ee.Feature(\n",
    "      ee.Geometry.Point(10.5918853513, 46.6917328627), {'name': 'B3 (1930m)'}),\n",
    "  ee.Feature(\n",
    "      ee.Geometry.Point(10.5850561988, 46.684249288), {'name': 'P2 (1549m)'})\n",
    "]\n",
    "allStations = ee.FeatureCollection(stations)\n",
    "\n",
    "def do_buffer(t):\n",
    "    return(t.buffer(35).bounds())\n",
    "buffer = allStations.map(do_buffer)\n"
   ]
  },
  {
   "cell_type": "code",
   "execution_count": null,
   "metadata": {},
   "outputs": [],
   "source": [
    "#ndvi = image.normalizedDifference(['B5', 'B4']).rename('NDVI').clip(buffer)\n",
    "#ndviParams = {'min': -1, 'max': 1, 'palette': ['#856d08', 'white', 'green']}"
   ]
  },
  {
   "cell_type": "code",
   "execution_count": null,
   "metadata": {},
   "outputs": [],
   "source": [
    "s2 = ee.ImageCollection('COPERNICUS/S2') \\\n",
    "    .filterDate('2017-01-01', '2019-12-31') \\\n",
    "    .filter(ee.Filter.lt('CLOUDY_PIXEL_PERCENTAGE', 20)) \\\n",
    "    .filterBounds(buffer) "
   ]
  },
  {
   "cell_type": "code",
   "execution_count": null,
   "metadata": {},
   "outputs": [],
   "source": [
    "roi = ee.Feature(ee.Geometry.Point(10.5798451965, 46.6862577024), {'name': 'B2 1490m'})\n",
    "def addNDVI(image):\n",
    "    ndvi = image.normalizedDifference(['B8', 'B4']).rename('NDVI')\n",
    "    return image.addBands(ndvi).clip(buffer)#image.addBands(ndvi)\n",
    "withNDVI = s2.map(addNDVI).select(\"NDVI\").toBands()"
   ]
  },
  {
   "cell_type": "code",
   "execution_count": null,
   "metadata": {},
   "outputs": [],
   "source": [
    "ndvi_vis = {\n",
    "  'min': -1.0,'max': 1,\n",
    "  'palette': ['FFFFFF', 'CE7E45', 'DF923D', 'F1B555', 'FCD163', '99B718', \n",
    "  '74A901','66A000', '529400', '3E8601', '207401', '056201', '004C00', \n",
    "  '023B01','012E01', '011D01', '011301']\n",
    "}\n",
    "\n",
    "Map = geemap.Map(center=[ 46.6888079847906,10.586568754186793], zoom = 15)\n",
    "Map.add_basemap(\"TERRAIN\")\n",
    "Map.add_basemap(\"SATELLITE\")\n",
    "Map.addLayer(withNDVI,name=\"NDVI_series\")\n",
    "Map.addLayer(withNDVI.select(4),ndvi_vis,name=\"NDVI_image\")\n",
    "Map.addLayer(allStations,name=\"Monitoring Stations\")\n",
    "Map.set_plot_options(plot_type='bar',add_marker_cluster=False, marker=None)\n",
    "Map.roi_reducer = ee.Reducer.mean()\n",
    "Map"
   ]
  },
  {
   "cell_type": "code",
   "execution_count": null,
   "metadata": {},
   "outputs": [],
   "source": [
    "out_dir = os.path.join(os.path.expanduser('~'), 'Downloads')\n",
    "# out_csv = os.path.join(out_dir, 'points.csv')\n",
    "out_shp = os.path.join(out_dir, 'ndvi_matsch.shp')\n",
    "Map.extract_values_to_points(out_shp)"
   ]
  },
  {
   "cell_type": "code",
   "execution_count": null,
   "metadata": {},
   "outputs": [],
   "source": [
    "out_stats = os.path.join(out_dir, 'stats_match.kmz')  \n",
    "\n",
    "# Allowed output formats: csv, shp, json, kml, kmz\n",
    "# Allowed statistics type: MEAN, MAXIMUM, MINIMUM, MEDIAN, STD, MIN_MAX, VARIANCE, SUM\n",
    "geemap.zonal_statistics(withNDVI, buffer, out_stats, statistics_type='MEAN', scale=10)"
   ]
  },
  {
   "cell_type": "code",
   "execution_count": null,
   "metadata": {},
   "outputs": [],
   "source": [
    "import pandas as pd"
   ]
  },
  {
   "cell_type": "code",
   "execution_count": null,
   "metadata": {},
   "outputs": [],
   "source": [
    "means_ndvi = withNDVI.reduceRegions(\n",
    "  buffer,\n",
    "  reducer = ee.Reducer.mean(),\n",
    "  scale = 10\n",
    ")\n",
    "\n",
    "#means_ndvi.getInfo().values()"
   ]
  },
  {
   "cell_type": "code",
   "execution_count": null,
   "metadata": {
    "tags": []
   },
   "outputs": [],
   "source": [
    "prop_names = means_ndvi.first().propertyNames()\n",
    "prop_lists = means_ndvi.reduceColumns(\n",
    "     reducer=ee.Reducer.toList().repeat(prop_names.size()),\n",
    "     selectors=prop_names).get('list')\n",
    "dictionary = ee.Dictionary.fromLists(prop_names, prop_lists).getInfo()\n",
    "df = pd.DataFrame(dictionary)\n",
    "del df['system:index']\n",
    "\n",
    "print(prop_lists.getInfo())"
   ]
  },
  {
   "cell_type": "code",
   "execution_count": null,
   "metadata": {},
   "outputs": [],
   "source": [
    "from itertools import compress\n",
    "#list(df.columns)[df.columns!=\"name\"]\n",
    "cols = list(compress(list(df.columns), df.columns!=\"name\")) \n",
    "print(df.loc[0,:].pivot(columns=cols,values='name').head())"
   ]
  },
  {
   "cell_type": "code",
   "execution_count": null,
   "metadata": {},
   "outputs": [],
   "source": [
    "region = ee.FeatureCollection('USDOS/LSIB_SIMPLE/2017') \\\n",
    "  .filter(ee.Filter.eq('country_na', 'United States'))\n",
    "\n",
    "\n",
    "landcover = ee.Image('MODIS/051/MCD12Q1/2001_01_01') \\\n",
    "  .select('Land_Cover_Type_1')\n",
    "\n",
    "nl2001 = ee.Image('NOAA/DMSP-OLS/NIGHTTIME_LIGHTS/F152001') \\\n",
    "  .select('stable_lights')\n",
    "nl2012 = ee.Image('NOAA/DMSP-OLS/NIGHTTIME_LIGHTS/F182012') \\\n",
    "  .select('stable_lights')\n",
    "\n",
    "\n",
    "nlDiff = nl2012.subtract(nl2001).addBands(landcover)\n",
    "\n",
    "\n"
   ]
  },
  {
   "cell_type": "code",
   "execution_count": null,
   "metadata": {},
   "outputs": [],
   "source": [
    "means = nlDiff.reduceRegion(\n",
    "  ee.Reducer.mean().group(\n",
    "    groupField = 1,\n",
    "    groupName = 'code'\n",
    "  ),\n",
    "  geometry = region.geometry(),\n",
    "  scale = 1000,\n",
    "  maxPixels = 1e8\n",
    ")\n",
    "#print(means)\n",
    "means.getInfo()"
   ]
  },
  {
   "cell_type": "code",
   "execution_count": null,
   "metadata": {},
   "outputs": [],
   "source": []
  },
  {
   "cell_type": "code",
   "execution_count": null,
   "metadata": {},
   "outputs": [],
   "source": [
    "m = geemap.Map()\n",
    "m.addLayer(region)"
   ]
  },
  {
   "cell_type": "code",
   "execution_count": null,
   "metadata": {},
   "outputs": [],
   "source": [
    "m"
   ]
  },
  {
   "cell_type": "code",
   "execution_count": null,
   "metadata": {},
   "outputs": [],
   "source": []
  }
 ]
}