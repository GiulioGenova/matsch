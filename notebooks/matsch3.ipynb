{
 "metadata": {
  "language_info": {
   "codemirror_mode": {
    "name": "ipython",
    "version": 3
   },
   "file_extension": ".py",
   "mimetype": "text/x-python",
   "name": "python",
   "nbconvert_exporter": "python",
   "pygments_lexer": "ipython3",
   "version": "3.8.5-final"
  },
  "orig_nbformat": 2,
  "kernelspec": {
   "name": "python3",
   "display_name": "Python 3.8.5 64-bit ('base': conda)",
   "metadata": {
    "interpreter": {
     "hash": "2800adbcc015a26669636914ab08461ab6a00fd7d4babb9145b4932d63e56c5c"
    }
   }
  }
 },
 "nbformat": 4,
 "nbformat_minor": 2,
 "cells": [
  {
   "source": [
    "Got inspired [here](https://developers.google.com/earth-engine/tutorials/community/time-series-visualization-with-altair)"
   ],
   "cell_type": "markdown",
   "metadata": {}
  },
  {
   "cell_type": "code",
   "execution_count": null,
   "metadata": {},
   "outputs": [],
   "source": [
    "import ee\n",
    "import geemap\n",
    "from geemap import ee_initialize\n",
    "import os\n",
    "import pandas as pd\n",
    "import altair as alt\n",
    "import numpy as np\n",
    "import plotly.express as px\n",
    "import plotly.graph_objects as go\n",
    "\n",
    "ee_initialize()"
   ]
  },
  {
   "source": [
    "\n",
    "from create_reduce_region_function import create_reduce_region_function\n",
    "from fc_to_dict import fc_to_dict\n",
    "from add_date_info import add_date_info\n",
    "from addNDVI import addNDVI\n",
    "from do_buffer import do_buffer"
   ],
   "cell_type": "code",
   "metadata": {},
   "execution_count": null,
   "outputs": []
  },
  {
   "cell_type": "code",
   "execution_count": null,
   "metadata": {},
   "outputs": [],
   "source": [
    "stations = ee.FeatureCollection([\n",
    "  ee.Feature(ee.Geometry.Point(10.5798451965, 46.6862577024), {'name': 'B2 (1490m)'}),\n",
    "  ee.Feature(ee.Geometry.Point(10.5918853513, 46.6917328627), {'name': 'B3 (1930m)'}),\n",
    "  ee.Feature(ee.Geometry.Point(10.5850561988, 46.684249288), {'name': 'P2 (1549m)'})])\n",
    "\n",
    "aoi = stations.map(do_buffer)\n",
    "aoi_all = aoi.geometry()\n",
    "aoi_sel = ee.Geometry.Point(10.5850561988, 46.684249288)"
   ]
  },
  {
   "cell_type": "code",
   "execution_count": null,
   "metadata": {},
   "outputs": [],
   "source": [
    "s2 = ee.ImageCollection('COPERNICUS/S2') \\\n",
    "    .filterDate('2016-01-01', '2019-12-31') \\\n",
    "    .filter(ee.Filter.lt('CLOUDY_PIXEL_PERCENTAGE', 20)) \\\n",
    "    .filterBounds(aoi_all)"
   ]
  },
  {
   "source": [
    "ndvi = s2.map(addNDVI).select(\"NDVI\")\n",
    "ndvi_bands = ndvi.toBands().clip(aoi_all)"
   ],
   "cell_type": "code",
   "metadata": {},
   "execution_count": null,
   "outputs": []
  },
  {
   "cell_type": "code",
   "execution_count": null,
   "metadata": {},
   "outputs": [],
   "source": [
    "ndvi_vis = {\n",
    "  'min': -1.0,'max': 1,\n",
    "  'palette': ['FFFFFF', 'CE7E45', 'DF923D', 'F1B555', 'FCD163', '99B718', \n",
    "  '74A901','66A000', '529400', '3E8601', '207401', '056201', '004C00', \n",
    "  '023B01','012E01', '011D01', '011301']\n",
    "}\n",
    "\n",
    "Map = geemap.Map(center=[ 46.688,10.586], zoom = 15)\n",
    "Map.add_basemap(\"SATELLITE\")\n",
    "Map.addLayer(ndvi_bands,name=\"NDVI_series\")\n",
    "Map.addLayer(ndvi_bands.select(4),ndvi_vis,name=\"NDVI_image\")\n",
    "Map.addLayer(stations,name=\"Monitoring Stations\")\n",
    "Map.set_plot_options(plot_type='bar',add_marker_cluster=False, marker=None)\n",
    "Map.roi_reducer = ee.Reducer.mean()\n",
    "Map"
   ]
  },
  {
   "cell_type": "code",
   "execution_count": null,
   "metadata": {},
   "outputs": [],
   "source": [
    "\n",
    "reduce_ndvi = create_reduce_region_function(\n",
    "    geometry=aoi_sel, reducer=ee.Reducer.median(), scale=10)\n",
    "\n",
    "ndvi_stat_fc = ee.FeatureCollection(ndvi.map(reduce_ndvi)).filter(\n",
    "    ee.Filter.notNull(ndvi.first().bandNames()))"
   ]
  },
  {
   "cell_type": "code",
   "execution_count": null,
   "metadata": {},
   "outputs": [],
   "source": [
    "ndvi_dict = fc_to_dict(ndvi_stat_fc).getInfo()\n",
    "ndvi_df = pd.DataFrame(ndvi_dict)"
   ]
  },
  {
   "cell_type": "code",
   "execution_count": null,
   "metadata": {},
   "outputs": [],
   "source": [
    "ndvi_df = add_date_info(ndvi_df).drop(['millis','system:index'],axis=1)\n",
    "ndvi_df.head(5)"
   ]
  },
  {
   "cell_type": "code",
   "execution_count": null,
   "metadata": {},
   "outputs": [],
   "source": [
    "fig = px.line(ndvi_df, x=\"DOY\", y=\"NDVI\", color='Year')\n",
    "f = go.FigureWidget(fig)\n",
    "f"
   ]
  }
 ]
}