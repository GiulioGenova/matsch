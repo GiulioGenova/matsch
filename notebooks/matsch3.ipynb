{
 "metadata": {
  "language_info": {
   "codemirror_mode": {
    "name": "ipython",
    "version": 3
   },
   "file_extension": ".py",
   "mimetype": "text/x-python",
   "name": "python",
   "nbconvert_exporter": "python",
   "pygments_lexer": "ipython3",
   "version": "3.8.5-final"
  },
  "orig_nbformat": 2,
  "kernelspec": {
   "name": "python3",
   "display_name": "Python 3.8.5 64-bit ('deepgrids-env': conda)",
   "metadata": {
    "interpreter": {
     "hash": "2800adbcc015a26669636914ab08461ab6a00fd7d4babb9145b4932d63e56c5c"
    }
   }
  }
 },
 "nbformat": 4,
 "nbformat_minor": 2,
 "cells": [
  {
   "source": [
    "# Matsch Valley\n",
    "## NDVI - Precipitation - Land Surface Temperature\n",
    "\n",
    "This is an example on how to use [Google Earth Engine](https://earthengine.google.com) via [Python](https://gee-python-api.readthedocs.io/en/latest/index.html) to visualize and download different kinds of data for specific locations.\n",
    "\n",
    "\n",
    "Got inspired [here](https://developers.google.com/earth-engine/tutorials/community/time-series-visualization-with-altair)\n",
    "\n",
    "**Contact**: Giulio Genova ([Twitter](https://twitter.com/giuliogenova), [GitHub](https://github.com/GiulioGenova), [Linkedin](https://www.linkedin.com/in/giulio-genova-a54b30a4/))"
   ],
   "cell_type": "markdown",
   "metadata": {}
  },
  {
   "cell_type": "code",
   "execution_count": null,
   "metadata": {},
   "outputs": [],
   "source": [
    "import ee\n",
    "import geemap\n",
    "from geemap import ee_initialize\n",
    "import os\n",
    "import pandas as pd\n",
    "import numpy as np\n",
    "import plotly.express as px\n",
    "import plotly.graph_objects as go\n",
    "\n",
    "ee_initialize()"
   ]
  },
  {
   "source": [
    "\n",
    "# User defined functions\n",
    "from create_reduce_region_function import create_reduce_region_function\n",
    "from fc_to_dict import fc_to_dict\n",
    "from add_date_info import add_date_info\n",
    "from addNDVI import addNDVI\n",
    "from do_buffer import do_buffer"
   ],
   "cell_type": "code",
   "metadata": {},
   "execution_count": null,
   "outputs": []
  },
  {
   "cell_type": "code",
   "execution_count": null,
   "metadata": {},
   "outputs": [],
   "source": [
    "stations = ee.FeatureCollection([\n",
    "  ee.Feature(ee.Geometry.Point(10.5798451965, 46.6862577024), {'name': 'B2 (1490m)'}),\n",
    "  ee.Feature(ee.Geometry.Point(10.5918853513, 46.6917328627), {'name': 'B3 (1930m)'}),\n",
    "  ee.Feature(ee.Geometry.Point(10.5850561988, 46.684249288), {'name': 'P2 (1549m)'})])\n",
    "\n",
    "aoi = stations.map(do_buffer)\n",
    "aoi_all = aoi.geometry()\n",
    "aoi_sel = ee.Geometry.Point(10.5850561988, 46.684249288)"
   ]
  },
  {
   "cell_type": "code",
   "execution_count": null,
   "metadata": {},
   "outputs": [],
   "source": [
    "s2 = ee.ImageCollection('COPERNICUS/S2') \\\n",
    "    .filterDate('2016-01-01', '2020-11-20') \\\n",
    "    .filter(ee.Filter.lt('CLOUDY_PIXEL_PERCENTAGE', 20)) \\\n",
    "    .filterBounds(aoi_all)"
   ]
  },
  {
   "source": [
    "ndvi = s2.map(addNDVI).select(\"NDVI\")\n",
    "ndvi_bands = ndvi.toBands().clip(aoi_all)"
   ],
   "cell_type": "code",
   "metadata": {},
   "execution_count": null,
   "outputs": []
  },
  {
   "cell_type": "code",
   "execution_count": null,
   "metadata": {},
   "outputs": [],
   "source": [
    "ndvi_vis = {\n",
    "  'min': -1.0,'max': 1,\n",
    "  'palette': ['FFFFFF', 'CE7E45', 'DF923D', 'F1B555', 'FCD163', '99B718', \n",
    "  '74A901','66A000', '529400', '3E8601', '207401', '056201', '004C00', \n",
    "  '023B01','012E01', '011D01', '011301']\n",
    "}\n",
    "\n",
    "Map = geemap.Map(center=[ 46.688,10.586], zoom = 15)\n",
    "Map.add_basemap(\"SATELLITE\")\n",
    "Map.addLayer(ndvi_bands,name=\"NDVI_series\")\n",
    "Map.addLayer(ndvi_bands.select(18),ndvi_vis,name=\"NDVI_image\")\n",
    "Map.addLayer(stations,name=\"Monitoring Stations\")\n",
    "Map.set_plot_options(plot_type='bar',add_marker_cluster=False, marker=None)\n",
    "Map.roi_reducer = ee.Reducer.mean()\n",
    "Map"
   ]
  },
  {
   "source": [
    "## NDVI for station P2\n",
    "\n",
    "Here we download and prepare 5 years of NDVI data from [Sentinel 2](https://developers.google.com/earth-engine/datasets/catalog/COPERNICUS_S2?hl=en) for a specific location (median in the window around the point)"
   ],
   "cell_type": "markdown",
   "metadata": {}
  },
  {
   "cell_type": "code",
   "execution_count": null,
   "metadata": {},
   "outputs": [],
   "source": [
    "reduce_ndvi = create_reduce_region_function(\n",
    "    geometry=aoi_sel, reducer=ee.Reducer.median(), scale=10)\n",
    "\n",
    "ndvi_stat_fc = ee.FeatureCollection(ndvi.map(reduce_ndvi)).filter(\n",
    "    ee.Filter.notNull(ndvi.first().bandNames()))\n",
    "\n",
    "ndvi_dict = fc_to_dict(ndvi_stat_fc).getInfo()\n",
    "ndvi_df = pd.DataFrame(ndvi_dict)\n",
    "\n",
    "ndvi_df = add_date_info(ndvi_df).drop(['millis','system:index'],axis=1)\n",
    "ndvi_df = ndvi_df.drop_duplicates([\"NDVI\",\"Year\",\"DOY\"])\n",
    "ndvi_df.head(5)"
   ]
  },
  {
   "cell_type": "code",
   "execution_count": null,
   "metadata": {},
   "outputs": [],
   "source": [
    "fig = px.line(ndvi_df, x=\"DOY\", y=\"NDVI\", color='Year')\n",
    "f = go.FigureWidget(fig)\n",
    "f"
   ]
  },
  {
   "source": [
    "## Precipitation for station P2\n",
    "\n",
    "Here we download and prepare 5 years of Precipitation data from [NASA](https://developers.google.com/earth-engine/datasets/catalog/NASA_GPM_L3_IMERG_MONTHLY_V06) for a specific location (pixel size is actually bigger than the window around the point)\n"
   ],
   "cell_type": "markdown",
   "metadata": {}
  },
  {
   "cell_type": "code",
   "execution_count": null,
   "metadata": {},
   "outputs": [],
   "source": [
    "prec = ee.ImageCollection('NASA/GPM_L3/IMERG_MONTHLY_V06') \\\n",
    "                  .filter(ee.Filter.date('2016-01-01', '2020-11-20'))\n",
    "\n",
    "reduce_prec = create_reduce_region_function(\n",
    "    geometry=aoi_sel, reducer=ee.Reducer.median(), scale=5000)\n",
    "\n",
    "prec_stat_fc = ee.FeatureCollection(prec.map(reduce_prec)).filter(\n",
    "    ee.Filter.notNull(prec.first().bandNames()))\n",
    "\n",
    "prec_dict = fc_to_dict(prec_stat_fc).getInfo()\n",
    "prec_df = pd.DataFrame(prec_dict)\n",
    "\n",
    "prec_df = add_date_info(prec_df).drop(['millis','system:index'],axis=1)\n",
    "prec_df['precipitation'] = prec_df['precipitation']*1000\n",
    "prec_df.head(5)\n",
    "\n"
   ]
  },
  {
   "cell_type": "code",
   "execution_count": null,
   "metadata": {},
   "outputs": [],
   "source": [
    "fig_prec = px.bar(prec_df, x=\"Timestamp\", y=\"precipitation\", color='Year')\n",
    "f_prec = go.FigureWidget(fig_prec)\n",
    "f_prec"
   ]
  },
  {
   "source": [
    "## Land Surface Temperature (Day) for station P2\n",
    "\n",
    "Here we download and prepare 5 years of Land Surface Temperature data from [MODIS](https://developers.google.com/earth-engine/datasets/catalog/MODIS_006_MOD11A2) for a specific location (pixel size is actually bigger than the window around the point)"
   ],
   "cell_type": "markdown",
   "metadata": {}
  },
  {
   "source": [
    "lst = ee.ImageCollection('MODIS/006/MOD11A2') \\\n",
    "                  .filter(ee.Filter.date('2016-01-01', '2020-11-20'))\n",
    "\n",
    "reduce_lst = create_reduce_region_function(\n",
    "    geometry=aoi_sel, reducer=ee.Reducer.median(), scale=5000)\n",
    "\n",
    "lst_stat_fc = ee.FeatureCollection(lst.map(reduce_lst)).filter(\n",
    "    ee.Filter.notNull(lst.first().bandNames()))\n",
    "\n",
    "lst_dict = fc_to_dict(lst_stat_fc).getInfo()\n",
    "lst_df = pd.DataFrame(lst_dict)\n",
    "\n",
    "lst_df = add_date_info(lst_df).drop(['millis','system:index'],axis=1)\n",
    "lst_df['LST_Day_1km'] = lst_df['LST_Day_1km']/1000\n",
    "lst_df['LST_Night_1km'] = lst_df['LST_Night_1km']/1000\n",
    "lst_df.head(5)"
   ],
   "cell_type": "code",
   "metadata": {},
   "execution_count": null,
   "outputs": []
  },
  {
   "cell_type": "code",
   "execution_count": null,
   "metadata": {},
   "outputs": [],
   "source": [
    "fig_lst = px.line(lst_df, x=\"Timestamp\", y=\"LST_Day_1km\", color='Year')\n",
    "f_lst = go.FigureWidget(fig_lst)\n",
    "f_lst"
   ]
  }
 ]
}