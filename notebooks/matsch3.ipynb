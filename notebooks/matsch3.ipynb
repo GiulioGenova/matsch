{
 "metadata": {
  "language_info": {
   "codemirror_mode": {
    "name": "ipython",
    "version": 3
   },
   "file_extension": ".py",
   "mimetype": "text/x-python",
   "name": "python",
   "nbconvert_exporter": "python",
   "pygments_lexer": "ipython3",
   "version": "3.8.5-final"
  },
  "orig_nbformat": 2,
  "kernelspec": {
   "name": "python3",
   "display_name": "Python 3.8.5 64-bit ('base': conda)",
   "metadata": {
    "interpreter": {
     "hash": "2800adbcc015a26669636914ab08461ab6a00fd7d4babb9145b4932d63e56c5c"
    }
   }
  }
 },
 "nbformat": 4,
 "nbformat_minor": 2,
 "cells": [
  {
   "source": [
    "Got inspired [here](https://developers.google.com/earth-engine/tutorials/community/time-series-visualization-with-altair)"
   ],
   "cell_type": "markdown",
   "metadata": {}
  },
  {
   "cell_type": "code",
   "execution_count": 1,
   "metadata": {},
   "outputs": [],
   "source": [
    "import ee\n",
    "import geemap\n",
    "from geemap import ee_initialize\n",
    "import os\n",
    "import pandas as pd\n",
    "import numpy as np\n",
    "import plotly.express as px\n",
    "import plotly.graph_objects as go\n",
    "\n",
    "ee_initialize()"
   ]
  },
  {
   "source": [
    "\n",
    "from create_reduce_region_function import create_reduce_region_function\n",
    "from fc_to_dict import fc_to_dict\n",
    "from add_date_info import add_date_info\n",
    "from addNDVI import addNDVI\n",
    "from do_buffer import do_buffer"
   ],
   "cell_type": "code",
   "metadata": {},
   "execution_count": 2,
   "outputs": []
  },
  {
   "cell_type": "code",
   "execution_count": 3,
   "metadata": {},
   "outputs": [],
   "source": [
    "stations = ee.FeatureCollection([\n",
    "  ee.Feature(ee.Geometry.Point(10.5798451965, 46.6862577024), {'name': 'B2 (1490m)'}),\n",
    "  ee.Feature(ee.Geometry.Point(10.5918853513, 46.6917328627), {'name': 'B3 (1930m)'}),\n",
    "  ee.Feature(ee.Geometry.Point(10.5850561988, 46.684249288), {'name': 'P2 (1549m)'})])\n",
    "\n",
    "aoi = stations.map(do_buffer)\n",
    "aoi_all = aoi.geometry()\n",
    "aoi_sel = ee.Geometry.Point(10.5850561988, 46.684249288)"
   ]
  },
  {
   "cell_type": "code",
   "execution_count": 4,
   "metadata": {},
   "outputs": [],
   "source": [
    "s2 = ee.ImageCollection('COPERNICUS/S2') \\\n",
    "    .filterDate('2016-01-01', '2019-12-31') \\\n",
    "    .filter(ee.Filter.lt('CLOUDY_PIXEL_PERCENTAGE', 20)) \\\n",
    "    .filterBounds(aoi_all)"
   ]
  },
  {
   "source": [
    "ndvi = s2.map(addNDVI).select(\"NDVI\")\n",
    "ndvi_bands = ndvi.toBands().clip(aoi_all)"
   ],
   "cell_type": "code",
   "metadata": {},
   "execution_count": 5,
   "outputs": []
  },
  {
   "cell_type": "code",
   "execution_count": 6,
   "metadata": {},
   "outputs": [
    {
     "output_type": "display_data",
     "data": {
      "text/plain": "Map(center=[46.688, 10.586], controls=(WidgetControl(options=['position'], widget=HBox(children=(ToggleButton(…",
      "application/vnd.jupyter.widget-view+json": {
       "version_major": 2,
       "version_minor": 0,
       "model_id": "73d62c51a08f4235875c3216cdfaf9f3"
      }
     },
     "metadata": {}
    }
   ],
   "source": [
    "ndvi_vis = {\n",
    "  'min': -1.0,'max': 1,\n",
    "  'palette': ['FFFFFF', 'CE7E45', 'DF923D', 'F1B555', 'FCD163', '99B718', \n",
    "  '74A901','66A000', '529400', '3E8601', '207401', '056201', '004C00', \n",
    "  '023B01','012E01', '011D01', '011301']\n",
    "}\n",
    "\n",
    "Map = geemap.Map(center=[ 46.688,10.586], zoom = 15)\n",
    "Map.add_basemap(\"SATELLITE\")\n",
    "Map.addLayer(ndvi_bands,name=\"NDVI_series\")\n",
    "Map.addLayer(ndvi_bands.select(4),ndvi_vis,name=\"NDVI_image\")\n",
    "Map.addLayer(stations,name=\"Monitoring Stations\")\n",
    "Map.set_plot_options(plot_type='bar',add_marker_cluster=False, marker=None)\n",
    "Map.roi_reducer = ee.Reducer.mean()\n",
    "Map"
   ]
  },
  {
   "source": [
    "## NDVI for P2"
   ],
   "cell_type": "markdown",
   "metadata": {}
  },
  {
   "cell_type": "code",
   "execution_count": 117,
   "metadata": {},
   "outputs": [
    {
     "output_type": "execute_result",
     "data": {
      "text/plain": [
       "       NDVI               Timestamp  Year  Month  Day  DOY\n",
       "0  0.020199 2016-01-03 10:33:20.407  2016      1    3    3\n",
       "1  0.020199 2016-01-03 10:33:20.407  2016      1    3    3\n",
       "2  0.532161 2016-05-22 10:20:29.455  2016      5   22  143\n",
       "3  0.532161 2016-05-22 10:20:29.000  2016      5   22  143\n",
       "4  0.707066 2016-06-28 10:10:26.461  2016      6   28  180"
      ],
      "text/html": "<div>\n<style scoped>\n    .dataframe tbody tr th:only-of-type {\n        vertical-align: middle;\n    }\n\n    .dataframe tbody tr th {\n        vertical-align: top;\n    }\n\n    .dataframe thead th {\n        text-align: right;\n    }\n</style>\n<table border=\"1\" class=\"dataframe\">\n  <thead>\n    <tr style=\"text-align: right;\">\n      <th></th>\n      <th>NDVI</th>\n      <th>Timestamp</th>\n      <th>Year</th>\n      <th>Month</th>\n      <th>Day</th>\n      <th>DOY</th>\n    </tr>\n  </thead>\n  <tbody>\n    <tr>\n      <th>0</th>\n      <td>0.020199</td>\n      <td>2016-01-03 10:33:20.407</td>\n      <td>2016</td>\n      <td>1</td>\n      <td>3</td>\n      <td>3</td>\n    </tr>\n    <tr>\n      <th>1</th>\n      <td>0.020199</td>\n      <td>2016-01-03 10:33:20.407</td>\n      <td>2016</td>\n      <td>1</td>\n      <td>3</td>\n      <td>3</td>\n    </tr>\n    <tr>\n      <th>2</th>\n      <td>0.532161</td>\n      <td>2016-05-22 10:20:29.455</td>\n      <td>2016</td>\n      <td>5</td>\n      <td>22</td>\n      <td>143</td>\n    </tr>\n    <tr>\n      <th>3</th>\n      <td>0.532161</td>\n      <td>2016-05-22 10:20:29.000</td>\n      <td>2016</td>\n      <td>5</td>\n      <td>22</td>\n      <td>143</td>\n    </tr>\n    <tr>\n      <th>4</th>\n      <td>0.707066</td>\n      <td>2016-06-28 10:10:26.461</td>\n      <td>2016</td>\n      <td>6</td>\n      <td>28</td>\n      <td>180</td>\n    </tr>\n  </tbody>\n</table>\n</div>"
     },
     "metadata": {},
     "execution_count": 117
    }
   ],
   "source": [
    "reduce_ndvi = create_reduce_region_function(\n",
    "    geometry=aoi_sel, reducer=ee.Reducer.median(), scale=10)\n",
    "\n",
    "ndvi_stat_fc = ee.FeatureCollection(ndvi.map(reduce_ndvi)).filter(\n",
    "    ee.Filter.notNull(ndvi.first().bandNames()))\n",
    "\n",
    "ndvi_dict = fc_to_dict(ndvi_stat_fc).getInfo()\n",
    "ndvi_df = pd.DataFrame(ndvi_dict)\n",
    "\n",
    "ndvi_df = add_date_info(ndvi_df).drop(['millis','system:index'],axis=1)\n",
    "ndvi_df.head(5)"
   ]
  },
  {
   "cell_type": "code",
   "execution_count": 120,
   "metadata": {},
   "outputs": [
    {
     "output_type": "display_data",
     "data": {
      "text/plain": "FigureWidget({\n    'data': [{'hovertemplate': 'Year=2016<br>DOY=%{x}<br>NDVI=%{y}<extra></extra>',\n           …",
      "application/vnd.jupyter.widget-view+json": {
       "version_major": 2,
       "version_minor": 0,
       "model_id": "21cf012ddc8946959256fa6947c321f8"
      }
     },
     "metadata": {}
    }
   ],
   "source": [
    "fig = px.line(ndvi_df, x=\"DOY\", y=\"NDVI\", color='Year')#\n",
    "f = go.FigureWidget(fig)\n",
    "f"
   ]
  },
  {
   "source": [
    "## Precipitation for P2"
   ],
   "cell_type": "markdown",
   "metadata": {}
  },
  {
   "cell_type": "code",
   "execution_count": 115,
   "metadata": {},
   "outputs": [
    {
     "output_type": "execute_result",
     "data": {
      "text/plain": [
       "   gaugeRelativeWeighting  precipitation  precipitationQualityIndex  \\\n",
       "0                      99     131.115004                 352.609406   \n",
       "1                      99     135.038778                 539.945496   \n",
       "2                      99      63.604720                 500.030945   \n",
       "3                      99     127.969444                 543.810181   \n",
       "4                      99     196.306422                 460.459106   \n",
       "\n",
       "   probabilityLiquidPrecipitation  randomError  Timestamp  Year  Month  Day  \\\n",
       "0                              10     0.003737 2016-01-01  2016      1    1   \n",
       "1                              17     0.003079 2016-02-01  2016      2    1   \n",
       "2                              27     0.001985 2016-03-01  2016      3    1   \n",
       "3                              69     0.002962 2016-04-01  2016      4    1   \n",
       "4                              88     0.004282 2016-05-01  2016      5    1   \n",
       "\n",
       "   DOY  \n",
       "0    1  \n",
       "1   32  \n",
       "2   61  \n",
       "3   92  \n",
       "4  122  "
      ],
      "text/html": "<div>\n<style scoped>\n    .dataframe tbody tr th:only-of-type {\n        vertical-align: middle;\n    }\n\n    .dataframe tbody tr th {\n        vertical-align: top;\n    }\n\n    .dataframe thead th {\n        text-align: right;\n    }\n</style>\n<table border=\"1\" class=\"dataframe\">\n  <thead>\n    <tr style=\"text-align: right;\">\n      <th></th>\n      <th>gaugeRelativeWeighting</th>\n      <th>precipitation</th>\n      <th>precipitationQualityIndex</th>\n      <th>probabilityLiquidPrecipitation</th>\n      <th>randomError</th>\n      <th>Timestamp</th>\n      <th>Year</th>\n      <th>Month</th>\n      <th>Day</th>\n      <th>DOY</th>\n    </tr>\n  </thead>\n  <tbody>\n    <tr>\n      <th>0</th>\n      <td>99</td>\n      <td>131.115004</td>\n      <td>352.609406</td>\n      <td>10</td>\n      <td>0.003737</td>\n      <td>2016-01-01</td>\n      <td>2016</td>\n      <td>1</td>\n      <td>1</td>\n      <td>1</td>\n    </tr>\n    <tr>\n      <th>1</th>\n      <td>99</td>\n      <td>135.038778</td>\n      <td>539.945496</td>\n      <td>17</td>\n      <td>0.003079</td>\n      <td>2016-02-01</td>\n      <td>2016</td>\n      <td>2</td>\n      <td>1</td>\n      <td>32</td>\n    </tr>\n    <tr>\n      <th>2</th>\n      <td>99</td>\n      <td>63.604720</td>\n      <td>500.030945</td>\n      <td>27</td>\n      <td>0.001985</td>\n      <td>2016-03-01</td>\n      <td>2016</td>\n      <td>3</td>\n      <td>1</td>\n      <td>61</td>\n    </tr>\n    <tr>\n      <th>3</th>\n      <td>99</td>\n      <td>127.969444</td>\n      <td>543.810181</td>\n      <td>69</td>\n      <td>0.002962</td>\n      <td>2016-04-01</td>\n      <td>2016</td>\n      <td>4</td>\n      <td>1</td>\n      <td>92</td>\n    </tr>\n    <tr>\n      <th>4</th>\n      <td>99</td>\n      <td>196.306422</td>\n      <td>460.459106</td>\n      <td>88</td>\n      <td>0.004282</td>\n      <td>2016-05-01</td>\n      <td>2016</td>\n      <td>5</td>\n      <td>1</td>\n      <td>122</td>\n    </tr>\n  </tbody>\n</table>\n</div>"
     },
     "metadata": {},
     "execution_count": 115
    }
   ],
   "source": [
    "prec = ee.ImageCollection('NASA/GPM_L3/IMERG_MONTHLY_V06') \\\n",
    "                  .filter(ee.Filter.date('2016-01-01', '2020-11-15'))\n",
    "\n",
    "reduce_prec = create_reduce_region_function(\n",
    "    geometry=aoi_sel, reducer=ee.Reducer.median(), scale=5000)\n",
    "\n",
    "prec_stat_fc = ee.FeatureCollection(prec.map(reduce_prec)).filter(\n",
    "    ee.Filter.notNull(prec.first().bandNames()))\n",
    "\n",
    "prec_dict = fc_to_dict(prec_stat_fc).getInfo()\n",
    "prec_df = pd.DataFrame(prec_dict)\n",
    "\n",
    "prec_df = add_date_info(prec_df).drop(['millis','system:index'],axis=1)\n",
    "prec_df['precipitation'] = prec_df['precipitation']*1000\n",
    "prec_df.head(5)\n",
    "\n"
   ]
  },
  {
   "cell_type": "code",
   "execution_count": 116,
   "metadata": {},
   "outputs": [
    {
     "output_type": "display_data",
     "data": {
      "text/plain": "FigureWidget({\n    'data': [{'alignmentgroup': 'True',\n              'hovertemplate': 'Timestamp=%{x}<br>preci…",
      "application/vnd.jupyter.widget-view+json": {
       "version_major": 2,
       "version_minor": 0,
       "model_id": "c632594972894e7d872adecf357c1f6a"
      }
     },
     "metadata": {}
    }
   ],
   "source": [
    "fig_prec = px.bar(prec_df, x=\"Timestamp\", y=\"precipitation\", color='Year')\n",
    "f_prec = go.FigureWidget(fig_prec)\n",
    "f_prec"
   ]
  },
  {
   "source": [
    "## Land Surface Temperature (Day) for P2"
   ],
   "cell_type": "markdown",
   "metadata": {}
  },
  {
   "source": [
    "lst = ee.ImageCollection('MODIS/006/MOD11A2') \\\n",
    "                  .filter(ee.Filter.date('2016-01-01', '2020-11-15'))\n",
    "\n",
    "reduce_lst = create_reduce_region_function(\n",
    "    geometry=aoi_sel, reducer=ee.Reducer.median(), scale=5000)\n",
    "\n",
    "lst_stat_fc = ee.FeatureCollection(lst.map(reduce_lst)).filter(\n",
    "    ee.Filter.notNull(lst.first().bandNames()))\n",
    "\n",
    "lst_dict = fc_to_dict(lst_stat_fc).getInfo()\n",
    "lst_df = pd.DataFrame(lst_dict)\n",
    "\n",
    "lst_df = add_date_info(lst_df).drop(['millis','system:index'],axis=1)\n",
    "lst_df['LST_Day_1km'] = lst_df['LST_Day_1km']/1000\n",
    "lst_df['LST_Night_1km'] = lst_df['LST_Night_1km']/1000\n",
    "lst_df.head(5)"
   ],
   "cell_type": "code",
   "metadata": {},
   "execution_count": null,
   "outputs": []
  },
  {
   "cell_type": "code",
   "execution_count": 100,
   "metadata": {},
   "outputs": [
    {
     "output_type": "execute_result",
     "data": {
      "text/plain": [
       "   Clear_sky_days  Clear_sky_nights  Day_view_angl  Day_view_time  Emis_31  \\\n",
       "0               1               249             41            109      247   \n",
       "1             128                68            109            118      247   \n",
       "2             226               121             88            114      247   \n",
       "3             177                19             99            117      247   \n",
       "4             102                73             70            110      248   \n",
       "\n",
       "   Emis_32  LST_Day_1km  LST_Night_1km  Night_view_angl  Night_view_time  \\\n",
       "0      249       13.839         13.310               74              220   \n",
       "1      249       13.508         13.154               90              224   \n",
       "2      249       13.720         13.244               71              220   \n",
       "3      248       14.094         13.671               60              218   \n",
       "4      249       13.729         13.355               49              217   \n",
       "\n",
       "   QC_Day  QC_Night  Timestamp  Year  Month  Day  DOY  \n",
       "0      65         0 2016-01-01  2016      1    1    1  \n",
       "1      65        65 2016-01-09  2016      1    9    9  \n",
       "2      65         0 2016-01-17  2016      1   17   17  \n",
       "3      65         0 2016-01-25  2016      1   25   25  \n",
       "4      65         0 2016-02-10  2016      2   10   41  "
      ],
      "text/html": "<div>\n<style scoped>\n    .dataframe tbody tr th:only-of-type {\n        vertical-align: middle;\n    }\n\n    .dataframe tbody tr th {\n        vertical-align: top;\n    }\n\n    .dataframe thead th {\n        text-align: right;\n    }\n</style>\n<table border=\"1\" class=\"dataframe\">\n  <thead>\n    <tr style=\"text-align: right;\">\n      <th></th>\n      <th>Clear_sky_days</th>\n      <th>Clear_sky_nights</th>\n      <th>Day_view_angl</th>\n      <th>Day_view_time</th>\n      <th>Emis_31</th>\n      <th>Emis_32</th>\n      <th>LST_Day_1km</th>\n      <th>LST_Night_1km</th>\n      <th>Night_view_angl</th>\n      <th>Night_view_time</th>\n      <th>QC_Day</th>\n      <th>QC_Night</th>\n      <th>Timestamp</th>\n      <th>Year</th>\n      <th>Month</th>\n      <th>Day</th>\n      <th>DOY</th>\n    </tr>\n  </thead>\n  <tbody>\n    <tr>\n      <th>0</th>\n      <td>1</td>\n      <td>249</td>\n      <td>41</td>\n      <td>109</td>\n      <td>247</td>\n      <td>249</td>\n      <td>13.839</td>\n      <td>13.310</td>\n      <td>74</td>\n      <td>220</td>\n      <td>65</td>\n      <td>0</td>\n      <td>2016-01-01</td>\n      <td>2016</td>\n      <td>1</td>\n      <td>1</td>\n      <td>1</td>\n    </tr>\n    <tr>\n      <th>1</th>\n      <td>128</td>\n      <td>68</td>\n      <td>109</td>\n      <td>118</td>\n      <td>247</td>\n      <td>249</td>\n      <td>13.508</td>\n      <td>13.154</td>\n      <td>90</td>\n      <td>224</td>\n      <td>65</td>\n      <td>65</td>\n      <td>2016-01-09</td>\n      <td>2016</td>\n      <td>1</td>\n      <td>9</td>\n      <td>9</td>\n    </tr>\n    <tr>\n      <th>2</th>\n      <td>226</td>\n      <td>121</td>\n      <td>88</td>\n      <td>114</td>\n      <td>247</td>\n      <td>249</td>\n      <td>13.720</td>\n      <td>13.244</td>\n      <td>71</td>\n      <td>220</td>\n      <td>65</td>\n      <td>0</td>\n      <td>2016-01-17</td>\n      <td>2016</td>\n      <td>1</td>\n      <td>17</td>\n      <td>17</td>\n    </tr>\n    <tr>\n      <th>3</th>\n      <td>177</td>\n      <td>19</td>\n      <td>99</td>\n      <td>117</td>\n      <td>247</td>\n      <td>248</td>\n      <td>14.094</td>\n      <td>13.671</td>\n      <td>60</td>\n      <td>218</td>\n      <td>65</td>\n      <td>0</td>\n      <td>2016-01-25</td>\n      <td>2016</td>\n      <td>1</td>\n      <td>25</td>\n      <td>25</td>\n    </tr>\n    <tr>\n      <th>4</th>\n      <td>102</td>\n      <td>73</td>\n      <td>70</td>\n      <td>110</td>\n      <td>248</td>\n      <td>249</td>\n      <td>13.729</td>\n      <td>13.355</td>\n      <td>49</td>\n      <td>217</td>\n      <td>65</td>\n      <td>0</td>\n      <td>2016-02-10</td>\n      <td>2016</td>\n      <td>2</td>\n      <td>10</td>\n      <td>41</td>\n    </tr>\n  </tbody>\n</table>\n</div>"
     },
     "metadata": {},
     "execution_count": 100
    }
   ],
   "source": []
  },
  {
   "cell_type": "code",
   "execution_count": 102,
   "metadata": {},
   "outputs": [
    {
     "output_type": "display_data",
     "data": {
      "text/plain": "FigureWidget({\n    'data': [{'hovertemplate': 'Year=2016<br>Timestamp=%{x}<br>LST_Day_1km=%{y}<extra></extra>'…",
      "application/vnd.jupyter.widget-view+json": {
       "version_major": 2,
       "version_minor": 0,
       "model_id": "8053b491ce4a4b55b4e3c56ec83f0794"
      }
     },
     "metadata": {}
    }
   ],
   "source": [
    "fig_lst = px.line(lst_df, x=\"Timestamp\", y=\"LST_Day_1km\", color='Year')\n",
    "f_lst = go.FigureWidget(fig_lst)\n",
    "f_lst"
   ]
  },
  {
   "cell_type": "code",
   "execution_count": null,
   "metadata": {},
   "outputs": [],
   "source": []
  }
 ]
}